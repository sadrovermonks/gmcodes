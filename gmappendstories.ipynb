{
  "nbformat": 4,
  "nbformat_minor": 0,
  "metadata": {
    "colab": {
      "provenance": [],
      "authorship_tag": "ABX9TyMfwUZe2VeNQxczkvlXTMYk",
      "include_colab_link": true
    },
    "kernelspec": {
      "name": "python3",
      "display_name": "Python 3"
    },
    "language_info": {
      "name": "python"
    }
  },
  "cells": [
    {
      "cell_type": "markdown",
      "metadata": {
        "id": "view-in-github",
        "colab_type": "text"
      },
      "source": [
        "<a href=\"https://colab.research.google.com/github/sadrovermonks/gmcodes/blob/main/gmappendstories.ipynb\" target=\"_parent\"><img src=\"https://colab.research.google.com/assets/colab-badge.svg\" alt=\"Open In Colab\"/></a>"
      ]
    },
    {
      "cell_type": "code",
      "execution_count": null,
      "metadata": {
        "colab": {
          "base_uri": "https://localhost:8080/"
        },
        "id": "kN9HInOdOjU_",
        "outputId": "e1958bff-0d7d-489d-f124-9ad734f6514e"
      },
      "outputs": [
        {
          "output_type": "stream",
          "name": "stdout",
          "text": [
            "Append en STRING completado exitosamente.\n"
          ]
        }
      ],
      "source": [
        "from google.cloud import bigquery\n",
        "\n",
        "# Inicializa cliente con el project ID correcto\n",
        "client = bigquery.Client(project='general-motors-global')\n",
        "\n",
        "# Configuración del entorno\n",
        "dataset_id = '099_gm_namer_test'\n",
        "table_source = 'julytoappend_instagramstories'\n",
        "table_dest = 'historical_instagramstories'\n",
        "\n",
        "# Esquema destino (todo en STRING)\n",
        "dest_schema = [\n",
        "    {\"name\": \"Post_ID\", \"type\": \"STRING\"},\n",
        "    {\"name\": \"Account_ID\", \"type\": \"STRING\"},\n",
        "    {\"name\": \"Account_username\", \"type\": \"STRING\"},\n",
        "    {\"name\": \"Account_name\", \"type\": \"STRING\"},\n",
        "    {\"name\": \"Description\", \"type\": \"STRING\"},\n",
        "    {\"name\": \"Duration__sec_\", \"type\": \"STRING\"},\n",
        "    {\"name\": \"Publish_time\", \"type\": \"STRING\"},\n",
        "    {\"name\": \"Permalink\", \"type\": \"STRING\"},\n",
        "    {\"name\": \"Post_type\", \"type\": \"STRING\"},\n",
        "    {\"name\": \"Data_comment\", \"type\": \"STRING\"},\n",
        "    {\"name\": \"Date\", \"type\": \"STRING\"},\n",
        "    {\"name\": \"Views\", \"type\": \"STRING\"},\n",
        "    {\"name\": \"Reach\", \"type\": \"STRING\"},\n",
        "    {\"name\": \"Likes\", \"type\": \"STRING\"},\n",
        "    {\"name\": \"Shares\", \"type\": \"STRING\"},\n",
        "    {\"name\": \"Follows\", \"type\": \"STRING\"},\n",
        "    {\"name\": \"Profile_visits\", \"type\": \"STRING\"},\n",
        "    {\"name\": \"Link_clicks\", \"type\": \"STRING\"},\n",
        "    {\"name\": \"Sticker_taps\", \"type\": \"STRING\"},\n",
        "    {\"name\": \"Navigation\", \"type\": \"STRING\"},\n",
        "    {\"name\": \"Replies\", \"type\": \"STRING\"},\n",
        "]\n",
        "\n",
        "# Obtener esquema del origen\n",
        "dataset_ref = f\"{client.project}.{dataset_id}\"\n",
        "table_ref = f\"{dataset_ref}.{table_source}\"\n",
        "\n",
        "dataset_obj = client.get_dataset(dataset_ref)\n",
        "table = client.get_table(table_ref)\n",
        "source_schema = table.schema\n",
        "\n",
        "# Crear set de columnas del origen\n",
        "source_cols = {field.name for field in source_schema}\n",
        "\n",
        "# Preparar las columnas para la inserción\n",
        "columns_to_insert = []\n",
        "\n",
        "for col in dest_schema:\n",
        "    col_name = col['name']\n",
        "    if col_name in source_cols:\n",
        "        # Solo casteamos a STRING\n",
        "        cast_expr = f\"CAST({col_name} AS STRING)\"\n",
        "        columns_to_insert.append(cast_expr)\n",
        "\n",
        "# Construir las cadenas para la consulta final\n",
        "columns_list_str = \", \".join([col['name'] for col in dest_schema])\n",
        "select_exprs = \", \".join(columns_to_insert)\n",
        "\n",
        "# Crear la consulta SQL\n",
        "final_query = f\"\"\"\n",
        "INSERT INTO `{client.project}.{dataset_id}.{table_dest}` ({columns_list_str})\n",
        "SELECT {select_exprs}\n",
        "FROM `{client.project}.{dataset_id}.{table_source}`\n",
        "\"\"\"\n",
        "\n",
        "# Ejecutar\n",
        "query_job = client.query(final_query)\n",
        "query_job.result()\n",
        "\n",
        "print(\"Append en STRING completado exitosamente.\")"
      ]
    }
  ]
}